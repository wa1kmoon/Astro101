{
 "cells": [
  {
   "cell_type": "code",
   "execution_count": 132,
   "id": "30c1c5f3-64ac-4ce3-a397-edfb1b6e0176",
   "metadata": {},
   "outputs": [],
   "source": [
    "import pandas as pd\n",
    "import numpy as np\n",
    "import astropy.units as u\n",
    "from astropy.coordinates import SkyCoord\n",
    "from astropy.coordinates import match_coordinates_sky as match\n",
    "from tqdm import tqdm"
   ]
  },
  {
   "cell_type": "code",
   "execution_count": 2,
   "id": "d9d944dc-1f84-4871-9faf-dd62f7280aa3",
   "metadata": {},
   "outputs": [],
   "source": [
    "sncat = pd.read_csv('./The Open Supernova Catalog.csv', low_memory=False)"
   ]
  },
  {
   "cell_type": "code",
   "execution_count": 32,
   "id": "2c3d028e-89a7-4157-aa0c-07849c42fa21",
   "metadata": {},
   "outputs": [],
   "source": [
    "with open('./The Open Supernova Catalog.csv','r') as snfile:\n",
    "    snlines = snfile.readlines()[:80245] # later than 041217"
   ]
  },
  {
   "cell_type": "code",
   "execution_count": 275,
   "id": "f87dc535-21fc-4c18-915a-aad41b99a2cd",
   "metadata": {},
   "outputs": [
    {
     "name": "stderr",
     "output_type": "stream",
     "text": [
      "80245it [00:51, 1573.43it/s]\n"
     ]
    }
   ],
   "source": [
    "sn_name=[]#0\n",
    "sn_ra=[]#4\n",
    "sn_dec=[]#5\n",
    "sn_z=[]#6\n",
    "sn_type=[]#7\n",
    "sn_host=[]#3\n",
    "oddline=[] # len>12\n",
    "oddname=[]\n",
    "corline=[]\n",
    "errline=[] # cannot read coordinate\n",
    "errname=[]\n",
    "for idx, line in tqdm(enumerate(snlines)):\n",
    "    items = line.strip(' \\n').split('\",\"')\n",
    "    name,ra,dec,z,typee,host = [x.strip(' \"') for x in np.array(items)[np.array([0,4,5,6,7,3])]]\n",
    "#    items = line.strip(' \\n').split(',')\n",
    "#    name,ra,dec,z,typee,host = [x.strip(' \"') for x in np.array(items)[np.array([0,4,5,6,7,3])]]\n",
    "    if len(items)>12:\n",
    "       # print(name,idx,line)\n",
    "        oddline.append(line)\n",
    "        oddname.append(name)\n",
    "        continue\n",
    "    ras=ra.split(',')\n",
    "    decs=dec.split(',')\n",
    "    if 'GRB' in name: continue\n",
    "    try:\n",
    "        for i in range(len(ras)):\n",
    "            c = SkyCoord(ras[i],decs[i],unit=(u.hourangle,u.deg))\n",
    "            sn_name.append(name)\n",
    "            sn_ra.append(ras[i])\n",
    "            sn_dec.append(decs[i])\n",
    "            sn_z.append(z)\n",
    "            sn_type.append(typee)\n",
    "            sn_host.append(host)\n",
    "        corline.append(line)\n",
    "    except:\n",
    "        errline.append(line)"
   ]
  },
  {
   "cell_type": "code",
   "execution_count": 331,
   "id": "bf14d8d8-ebd2-4ffd-8faf-fe281bb7ab8b",
   "metadata": {},
   "outputs": [],
   "source": [
    "grbcat = pd.read_csv('./grb_table_1632362561.txt',low_memory=False, sep='\\t')\n",
    "\n",
    "# grb_name = np.array(grbcat['GRB'])\n",
    "# grb_ra = np.array(grbcat['XRT RA (J2000)'])\n",
    "# grb_dec = np.array(grbcat['XRT Dec (J2000)'])\n",
    "# grb_ra_bat = np.array(grbcat['BAT RA (J2000)'])\n",
    "# grb_dec_bat = np.array(grbcat['BAT Dec (J2000)'])\n",
    "# grb_host = np.array(grbcat['Host Galaxy'])\n",
    "# grb_z = np.array(grbcat['Redshift'])\n",
    "\n",
    "grb_name,grb_ra,grb_dec,grb_host,grb_z,borx=[],[],[],[],[],[]\n",
    "\n",
    "for idx in range(len(grbcat)):\n",
    "    line=grbcat.loc[idx]\n",
    "    name=line['GRB']\n",
    "    ra_bat=line['BAT RA (J2000)']\n",
    "    dec_bat=line['BAT Dec (J2000)']\n",
    "    ra_xrt=line['XRT RA (J2000)']\n",
    "    dec_xrt=line['XRT Dec (J2000)']\n",
    "    host=line['Host Galaxy']\n",
    "    z=line['Redshift']\n",
    "    if ra_bat != '9999' and dec_bat != '9999':\n",
    "        grb_name.append(name)\n",
    "        grb_host.append(host)\n",
    "        grb_z.append(z)\n",
    "        if ra_xrt != '9999' and dec_xrt != '9999':\n",
    "            grb_ra.append(ra_xrt)\n",
    "            grb_dec.append(dec_xrt)\n",
    "            borx.append('xrt')\n",
    "        else:\n",
    "            grb_ra.append((ra_bat*u.deg).to(u.hourangle))\n",
    "            grb_dec.append(dec_bat)\n",
    "            borx.append('bat')\n",
    "            #print((dec_bat*u.deg))\n",
    "    else:\n",
    "        continue\n",
    "    \n",
    "# ### xrt coords\n",
    "# xrt_idx = (grb_ra != '9999')\n",
    "# grb_name = grb_name[xrt_idx]\n",
    "# grb_ra = grb_ra[xrt_idx]\n",
    "# grb_dec = grb_dec[xrt_idx]\n",
    "# grb_host = grb_host[xrt_idx]\n",
    "# grb_z = grb_z[valid_idx]\n",
    "\n",
    "# ### bat coords\n",
    "# xrt_idx = (grb_ra != '9999')\n",
    "# grb_ra_bat = grb_ra_bat[valid_idx]\n",
    "# grb_dec_bat = grb_dec_bat[valid_idx]"
   ]
  },
  {
   "cell_type": "code",
   "execution_count": 332,
   "id": "85f1caa5-1494-4bd6-8366-bbfb840cb2ce",
   "metadata": {},
   "outputs": [],
   "source": [
    "def sep2d(ra1,dec1,ra2,dec2):\n",
    "    c1 = SkyCoord(ra1,dec1, unit=(u.hourangle, u.deg))\n",
    "    c2 = SkyCoord(ra2,dec2, unit=(u.hourangle, u.deg))\n",
    "    \n",
    "    return (c1.separation(c2)*u.degree).value"
   ]
  },
  {
   "cell_type": "code",
   "execution_count": 333,
   "id": "f76de539-c3bc-4d83-bf54-5e0aaa976fb6",
   "metadata": {},
   "outputs": [
    {
     "name": "stderr",
     "output_type": "stream",
     "text": [
      "WARNING: IllegalSecondWarning: 'second' was found  to be '60.0', which is not in range [0,60). Treating as 0 sec, +1 min [astropy.coordinates.angle_formats]\n"
     ]
    }
   ],
   "source": [
    "grb_coo = SkyCoord(ra=grb_ra, dec=grb_dec, unit=(u.hourangle, u.deg))\n",
    "sn_coo = SkyCoord(ra=sn_ra, dec=sn_dec, unit=(u.hourangle, u.deg))"
   ]
  },
  {
   "cell_type": "code",
   "execution_count": 334,
   "id": "1f5890ea-0fa1-4121-9d45-98bc70da1135",
   "metadata": {},
   "outputs": [],
   "source": [
    "idx,sep2d,dist3d=match(grb_coo, sn_coo)"
   ]
  },
  {
   "cell_type": "code",
   "execution_count": 335,
   "id": "f492536f-acbf-4eb3-9111-ed8662257f0a",
   "metadata": {},
   "outputs": [],
   "source": [
    "threshold_xrt = float(10)/3600\n",
    "threshold_bat = float(180)/3600"
   ]
  },
  {
   "cell_type": "code",
   "execution_count": 383,
   "id": "00f36eed-ed04-4a33-a466-eaae3e661967",
   "metadata": {},
   "outputs": [
    {
     "name": "stdout",
     "output_type": "stream",
     "text": [
      "Possible host visible in Pan-STARRS.\n",
      "Legacy Survey| PanSTAR| and SDSS archives (See GCN 30188)\n",
      "r=24.6 (NOT)\n",
      "r=24.6| z=24.4 (LBT| likely host)\n",
      "r'=23.96| z'=23.38 (LBT)\n",
      "g=23.2 (Archival PS1 Imaging of the Putative Host Galaxy)\n",
      "SDSS inspection reveals possible host.\n",
      "Possible catalogued galaxy in both SDSS and PS1-3Pi surveys.; Possible radio detection of host (VLA); Source consistent with possible host (LCO); r=21.37 (Gemini North: possible host); 20.7 AB mag (HST)\n",
      "r=22.01 (NOT)| M = -22.9 AB (VLT)\n",
      "r'=21.229| i'=21.574| z'=20.994 Pan-STARRS (possible host)\n",
      "Likely host: 2MASX J11093966-1235116 (z = 0.037)\n",
      "i-band (AB) = 23.17 (GTC)\n",
      "BAT: the spacecraft was slewing at that time| there was no onboard triggers\n",
      "MPG: possible host\n",
      "R ~ 21.2 (NOT)\n",
      "NOT\n",
      "i' (Vega)=22.23 (GTC)\n",
      "possible host: MASTER-SAAO| TNG\n",
      "r' band (Gemini-North| possible host)\n",
      "I~20.1 (CTIO)\n",
      "r=25.8 (possible host)\n",
      "r(AB)=26.8| J(AB)=26.1 and H(AB)=25.7 (HST)\n",
      "Likely hosted detected in radio.\n",
      "r=23.6 (NOT: possible host)\n",
      "i=22.75 (NOT)\n",
      "i=22.2| Gemini-North\n",
      "potential host| m_AB~24 (GTC)\n",
      "R=20.07 (NOT)|R=20.48| J=19.63 (VLT)\n",
      "White=22.9 (UVOT)\n",
      "MPG/ESO\n",
      "i'=19.58 (HJT)\n",
      "r=20.94 (WHT)\n",
      "Irregular galaxy| with a broadly elliptical shape (William Herschel).\n",
      "g = 25.7| I = 24.9 (Keck I)\n",
      "I = 23.2 (Keck I| possible host)\n",
      "Gemini-North: likely host\n",
      "AZT-22: possible host\n",
      "I = 23.8 (Keck I)\n",
      "g=25.83| I = 23.55 (Keck I)| VLT\n",
      "NOT| Magellan| Gemini-South| MPI/ESO (2.2m)| TNG (3.6m)\n",
      "Possible host (Zeiss-2000)\n",
      "R = 24.1 (NOT| possible host)\n",
      "UVW2 = 23.4 (Swift-UVOT: likely host)\n",
      "i~23.5 (Gemini-South)|J=21.6 (Magellan)\n",
      "r' = 25.0 +/- 0.2 (GROND)\n",
      "r~23 (Gemini-South)|  r~23 (Magellan)\n",
      "HST| VLT\n",
      "r~25 (Gemini-South)| g' and r' detections (MPI/ESO)\n",
      "Gemini-North\n",
      "g = 26 (AB)| I = 24.4 (Keck I)\n",
      "g|r|and i bands (SDSS)\n",
      "Palomar: potential (lowish redshift) host candidate.|UVOT: The fading observed suggests that this is the afterglow of GRB 100219A superimposed on the host galaxy candidate (GCN 10433).\n",
      "R=21.7| possible host (Palomar)|Possible host with z=0.41 (Keck)|J=18.35| H=17.55| Ks=16.56| possible host (PAIRITEL)|Second potential host (WHT| Gemini-North)\n",
      "NOT: possible host\n",
      "K' = 22.0 (Gemini-North)\n",
      "r = 22.7| i = 22.2 (SDSS)\n",
      "R~24.5 (HST)\n",
      "B~25.4| I~24.5 (Keck I)\n",
      "R=20.75 (Gemini-South)\n",
      "VLT detection\n",
      "Ks=19.5 (Subaru)\n",
      "Possible Host: edge-on spiral| R=19.3\n",
      "Ks ~ 18.2| possible host (Magellan)\n",
      "proposed host from DSS also detected with UKIRT| Palomar 60\"| Gemini South| & VLT\n",
      "possible host:|z'~23.5 (Subaru)|i'~24.1| Ks~22.3 (Gemini North)|3 candidates (Keck I)\n",
      "r=23.18| possible host (Gemini South)|2 host candidates (VLT)|g=24.79|R=23.24| probable host (Keck I)\n",
      "Keck I: I=24.6| potential host\n",
      "Potential host galaxies (MDM)\n",
      "possible host (VLT| UVOT)\n",
      "R-band (Magellan| Calar Alto)\n",
      "possible host (Gemini| MDM| Keck)\n",
      "UVOT: likely host galaxy detection|Magellan: probable host galaxy\n",
      "Likely host (NOT)|V=22.4| I=21.9 (SMARTS)\n",
      "Probable host| R~25.5 (VLT)\n",
      "probable host (VLT)\n",
      "Possible host| V=24.9| R=25.12 (NOT)\n",
      "Possible host: R & I (VLT)| Ks ~ 18.2 (Palomar Hale)| I & V (Keck I)\n",
      "Possible host| V=24.9| R=24.26| i=22.1 (NOT)\n",
      "NOT: possible host\n",
      "R-band (Danish 1.54m)|I = 21.9 (SMARTS)\n",
      "Possible host (Palomar| Keck I)\n",
      "2dFGRS S173Z112 (Gemini)|R-band (VLT)\n",
      "R~23.8 (Gemini: candidate)|R~23.9 (MDM: candidate)|bright early-type (Keck I: candidate)\n",
      "SDSS (possible host)\n",
      "Possible host: ARC\n",
      "Possible host (R=21.0)|R=21.0| I=20.4| V=21.8| B=22.5\n",
      "Barred spiral| type SBa (Keck I)\n",
      "V=23.1\n",
      "R=23.0| I=22.2| V=23.3| B=24.2\n",
      "R=24.8| V=25.2\n",
      "Possible: IC 328 (spiral & blue)\n",
      "MDM Observatory|R=21.4| I=20.6| V=22.3| B=23.9\n",
      "Magellan: possible host\n",
      "DSS: possible host galaxy\n",
      "R=21.8| I=20.6| V=22.9| B=24.9\n",
      "elliptical\n",
      "Faint and blue with large amounts of ongoing star formation.|V=24.2\n",
      "R=22.4| I=21.6| V=23.4\n",
      "Host candidates (VLT)\n",
      "R=23.9\n",
      "R = 21.6| Ks = 18.9 (VLT)\n",
      "Possible host| R = 23.9 (VLT)\n"
     ]
    }
   ],
   "source": [
    "matched={}\n",
    "for i,sep in enumerate(sep2d):\n",
    "    gname=grb_name[i]\n",
    "    gra=grb_ra[i]\n",
    "    gdec=grb_dec[i]\n",
    "\n",
    "    ghost=grb_host[i]\n",
    "    if isinstance(ghost,str):\n",
    "        ghost=ghost.replace(',',';')\n",
    "        #print(ghost)\n",
    "    gz=grb_z[i]\n",
    "    if borx[i] == 'xrt':\n",
    "        thres = threshold_xrt\n",
    "    else:\n",
    "        thres = threshold_bat\n",
    "    \n",
    "    sname=sn_name[idx[i]]\n",
    "    sra,sdec=sn_ra[idx[i]],sn_dec[idx[i]]\n",
    "    sz, stype, shost = sn_z[idx[i]], sn_type[idx[i]].replace(',',';'), sn_host[idx[i]].replace(',',';')\n",
    "    if sep.value < thres:\n",
    "        matched['{}-{}'.format(gname, sname)]=list(map(str,[sep.value * 3600,gra,gdec,ghost,gz, sra,sdec,stype,shost,sz]))"
   ]
  },
  {
   "cell_type": "code",
   "execution_count": 384,
   "id": "1d4ad954-8ade-4d54-bf33-5aa2a61406e4",
   "metadata": {},
   "outputs": [],
   "source": [
    "with open('grb-sn.csv','w') as gsfile:\n",
    "    gsfile.write('grb-sn,sep(arcsec),gra,gdec,ghost,gz,sra,sdec,stype,shost,s\\n')\n",
    "    for item in matched.items():\n",
    "        #print(','.join(item[1]))\n",
    "        gsfile.write('{},{}\\n'.format(item[0],','.join(item[1])))"
   ]
  },
  {
   "cell_type": "markdown",
   "id": "5c1a8408-e6cb-4890-a1c9-c53ffd24f08f",
   "metadata": {},
   "source": [
    "## test"
   ]
  },
  {
   "cell_type": "code",
   "execution_count": 174,
   "id": "b730fbea-2e8e-4542-8b01-d1169313d382",
   "metadata": {},
   "outputs": [
    {
     "data": {
      "text/plain": [
       "(<SkyCoord (ICRS): (ra, dec) in deg\n",
       "     [( 80.254375,  1.31169444), (129.892125, 79.22119444)]>,\n",
       " <SkyCoord (ICRS): (ra, dec) in deg\n",
       "     [(16.1158   , 39.44238611), (35.7978875, 14.38173611)]>)"
      ]
     },
     "execution_count": 174,
     "metadata": {},
     "output_type": "execute_result"
    }
   ],
   "source": [
    "grb_coo[:2],sn_coo[:2]"
   ]
  },
  {
   "cell_type": "code",
   "execution_count": 176,
   "id": "88293bb7-cc1a-4096-8882-c96cc572f2a0",
   "metadata": {},
   "outputs": [
    {
     "data": {
      "text/plain": [
       "45.81967285098611"
      ]
     },
     "execution_count": 176,
     "metadata": {},
     "output_type": "execute_result"
    }
   ],
   "source": [
    "(grb_coo[0].separation(sn_coo[1])*u.degree).value"
   ]
  },
  {
   "cell_type": "code",
   "execution_count": 370,
   "id": "1ccb41a1-1a4d-4b81-afca-369c8ab901d6",
   "metadata": {},
   "outputs": [
    {
     "data": {
      "text/plain": [
       "'lasg.asdf.as'"
      ]
     },
     "execution_count": 370,
     "metadata": {},
     "output_type": "execute_result"
    }
   ],
   "source": [
    "'lasg,asdf,as'.replace(',','.')"
   ]
  },
  {
   "cell_type": "code",
   "execution_count": null,
   "id": "256dae45-c200-4caa-a3c2-bd1658ab5e56",
   "metadata": {},
   "outputs": [],
   "source": []
  }
 ],
 "metadata": {
  "kernelspec": {
   "display_name": "Python 3 (ipykernel)",
   "language": "python",
   "name": "python3"
  },
  "language_info": {
   "codemirror_mode": {
    "name": "ipython",
    "version": 3
   },
   "file_extension": ".py",
   "mimetype": "text/x-python",
   "name": "python",
   "nbconvert_exporter": "python",
   "pygments_lexer": "ipython3",
   "version": "3.8.10"
  }
 },
 "nbformat": 4,
 "nbformat_minor": 5
}
