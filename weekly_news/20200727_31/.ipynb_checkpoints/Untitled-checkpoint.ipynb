{
 "cells": [
  {
   "cell_type": "code",
   "execution_count": 46,
   "id": "14f19eda-9dfc-462b-a083-d89adb3c7990",
   "metadata": {},
   "outputs": [],
   "source": [
    "import json as js\n",
    "import argparse"
   ]
  },
  {
   "cell_type": "code",
   "execution_count": 54,
   "id": "09b9f35f-f55a-405b-ac0c-fa0fad2bd1f1",
   "metadata": {},
   "outputs": [
    {
     "name": "stdout",
     "output_type": "stream",
     "text": [
      "usage: md2js [-h] [mdfile]\n",
      "\n",
      "from md note to json file\n",
      "\n",
      "positional arguments:\n",
      "  mdfile      md note file from which json file was generated\n",
      "\n",
      "optional arguments:\n",
      "  -h, --help  show this help message and exit\n"
     ]
    },
    {
     "data": {
      "text/plain": [
       "Namespace(md='11.md')"
      ]
     },
     "execution_count": 54,
     "metadata": {},
     "output_type": "execute_result"
    }
   ],
   "source": [
    "parser=argparse.ArgumentParser(prog='md2js',description='from md note to json file')\n",
    "parser.add_argument('md', nargs='?',type=str, help='md note file from which json file was generated', metavar='mdfile') # 对于位置参数, add_arguement的第一个参数就是赋给变量的名字.\n",
    "parser.print_help()\n",
    "parser.parse_args('11.md'.split())"
   ]
  },
  {
   "cell_type": "code",
   "execution_count": 55,
   "id": "4ccf9697-5d16-4ac3-956f-d046f72277f1",
   "metadata": {},
   "outputs": [],
   "source": [
    "md='20200727_31.md'\n",
    "artlist=[]\n",
    "mdfile=open(md,'r')\n",
    "isart=False\n",
    "for line in mdfile.readlines():\n",
    "    if isart == False:\n",
    "        artdict={\"title\":\"\", \"type\":\"\", \"comment\":\"\",\"article link\":\"\",\"local note\":\"\", \"external links\":\"\",\"abstract\":\"\",\"index\":\"\"}\n",
    "    if '###' in line:\n",
    "        isart == True\n",
    "        title=line.split('###')[-1].strip(' \\n').split(']')[0].strip('[')\n",
    "        #print(title)\n",
    "        #print(artdict)\n",
    "    if 'arxiv.org/abs' in line[:21]:\n",
    "        link=line.strip(' \\n')\n",
    "        #print(link)\n",
    "        #print(artdict)\n",
    "    if 'type' == line[:4]:\n",
    "        typ = ':'.join(line.split(':')[1:]).strip(' \\n')\n",
    "        #print(typ)\n",
    "    if 'comment' == line[:7]:\n",
    "        comment = ':'.join(line.split(':')[1:]).strip(' \\n')\n",
    "        #print(comment)\n",
    "    if '</details>' in line:\n",
    "        isart == False\n",
    "        note = md.split('_')[0]+'_lx.pdf'\n",
    "        #print(note+'\\n')\n",
    "        artdict['title']=title\n",
    "        artdict['article link']=link\n",
    "        artdict['type']=typ\n",
    "        artdict['comment']=comment\n",
    "        artdict['local note']=note\n",
    "        typ=comment=''\n",
    "        #print(artdict)\n",
    "        artlist.append(artdict) "
   ]
  },
  {
   "cell_type": "code",
   "execution_count": 56,
   "id": "2b33bf30-1fde-4e7f-838e-547764618cae",
   "metadata": {},
   "outputs": [],
   "source": [
    "with open('test.json','w') as newjs:\n",
    "    js.dump(artlist,newjs,ensure_ascii=False, indent=4)"
   ]
  },
  {
   "cell_type": "code",
   "execution_count": null,
   "id": "ae58e54f-9139-40e5-a478-1520592a8c1a",
   "metadata": {},
   "outputs": [],
   "source": []
  }
 ],
 "metadata": {
  "kernelspec": {
   "display_name": "Python 3 (ipykernel)",
   "language": "python",
   "name": "python3"
  },
  "language_info": {
   "codemirror_mode": {
    "name": "ipython",
    "version": 3
   },
   "file_extension": ".py",
   "mimetype": "text/x-python",
   "name": "python",
   "nbconvert_exporter": "python",
   "pygments_lexer": "ipython3",
   "version": "3.8.10"
  }
 },
 "nbformat": 4,
 "nbformat_minor": 5
}
